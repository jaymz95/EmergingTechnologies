{
 "cells": [
  {
   "cell_type": "markdown",
   "metadata": {},
   "source": [
    "### `__future__`\n",
    "is a real module, and serves three purposes:\n",
    "- To avoid confusing existing tools that analyze import statements and expect to find the modules they’re importing. (ref 'https://docs.python.org/3/library/__future__.html')\n",
    "\n",
    "### `Keras`\n",
    "Keras is a high-level neural networks API, written in Python and capable of running on top of TensorFlow. It was developed with a focus on enabling fast experimentation. (ref 'https://keras.io')\n",
    "\n",
    "#### Sequential\n",
    "-The sequential API allows you to create models layer-by-layer for most problems. It is limited in that it does not allow you to create models that share layers or have multiple inputs or outputs. (ref 'https://machinelearningmastery.com/keras-functional-api-deep-learning/')\n",
    "\n",
    "#### Dense\n",
    "-Dense is a name for a Fully connected / linear layer in keras. (ref 'https://forums.fast.ai/t/dense-vs-convolutional-vs-fully-connected-layers/191')\n",
    "\n",
    "#### Dropout\n",
    "- Dropout is a technique where randomly selected neurons are ignored during training. (ref 'https://machinelearningmastery.com/dropout-regularization-deep-learning-models-keras/')\n",
    "\n",
    "#### Flatten\n",
    "- The purpose of this argument is to preserve weight ordering when switching a model from one data format to another. (ref 'https://keras.io/layers/core/')\n",
    "\n",
    "#### Conv2D\n",
    "- This layer creates a combination kernel that is combined with the layer input to produce a tensor of outputs. If 'use_bias' is True, a bias vector is created and added to the outputs. Finally, if activation is not None, it is applied to the outputs as well. (ref 'https://keras.io/layers/convolutional/')\n",
    "\n",
    "#### MaxPooling2D\n",
    "- Max pooling operation for spatial data. (ref 'https://keras.io/layers/pooling/#maxpooling2d') \n",
    "\n",
    "#### Backend (Tensorflow)\n",
    "- keras relies on a specialized, well optimized tensor manipulation library to do so, serving as the \"backend engine\" of Keras. (ref 'https://keras.io/backend/') \n",
    "\n",
    "\n",
    "### `MNIST`\n",
    "The MNIST database of handwritten digits, available from keras, has a training set of 60,000 examples, and a test set of 10,000 examples. The digits have been size-normalized and centered in a fixed-size image. (ref 'http://yann.lecun.com/exdb/mnist/')\n"
   ]
  },
  {
   "cell_type": "code",
   "execution_count": 1,
   "metadata": {},
   "outputs": [
    {
     "name": "stderr",
     "output_type": "stream",
     "text": [
      "Using TensorFlow backend.\n"
     ]
    }
   ],
   "source": [
    "#python 2/3 compatibility\n",
    "from __future__ import print_function\n",
    "#simplified interface for building models \n",
    "import keras\n",
    "#our handwritten character labeled dataset\n",
    "from keras.datasets import mnist\n",
    "#because our models are simple\n",
    "from keras.models import Sequential\n",
    "#dense means fully connected layers, dropout is a technique to improve convergence, flatten to reshape our matrices for feeding\n",
    "#into respective layers\n",
    "from keras.layers import Dense, Dropout, Flatten\n",
    "#for convolution (images) and pooling is a technique to help choose the most relevant features in an image\n",
    "from keras.layers import Conv2D, MaxPooling2D\n",
    "from keras import backend as K"
   ]
  },
  {
   "cell_type": "code",
   "execution_count": 2,
   "metadata": {},
   "outputs": [],
   "source": [
    "#mini batch gradient descent ftw\n",
    "batch_size = 128\n",
    "#10 difference characters\n",
    "num_classes = 10\n",
    "#very short training time\n",
    "epochs = 12\n",
    "\n",
    "# input image dimensions\n",
    "#28x28 pixel images. \n",
    "img_rows, img_cols = 28, 28"
   ]
  },
  {
   "cell_type": "code",
   "execution_count": 3,
   "metadata": {},
   "outputs": [],
   "source": [
    "# Refference \"https://www.pytorials.com/deploy-keras-model-to-production-using-flask/\"\n",
    "\n",
    "# the data downloaded, shuffled and split between train and test sets\n",
    "#if only all datasets were this easy to import and format\n",
    "(x_train, y_train), (x_test, y_test) = mnist.load_data()\n",
    "\n",
    "#this assumes our data format\n",
    "#For 3D data, \"channels_last\" assumes (conv_dim1, conv_dim2, conv_dim3, channels) while \n",
    "#\"channels_first\" assumes (channels, conv_dim1, conv_dim2, conv_dim3).\n",
    "if K.image_data_format() == 'channels_first':\n",
    "    x_train = x_train.reshape(x_train.shape[0], 1, img_rows, img_cols)\n",
    "    x_test = x_test.reshape(x_test.shape[0], 1, img_rows, img_cols)\n",
    "    input_shape = (1, img_rows, img_cols)\n",
    "else:\n",
    "    x_train = x_train.reshape(x_train.shape[0], img_rows, img_cols, 1)\n",
    "    x_test = x_test.reshape(x_test.shape[0], img_rows, img_cols, 1)\n",
    "    input_shape = (img_rows, img_cols, 1)"
   ]
  }
 ],
 "metadata": {
  "kernelspec": {
   "display_name": "Python 3",
   "language": "python",
   "name": "python3"
  },
  "language_info": {
   "codemirror_mode": {
    "name": "ipython",
    "version": 3
   },
   "file_extension": ".py",
   "mimetype": "text/x-python",
   "name": "python",
   "nbconvert_exporter": "python",
   "pygments_lexer": "ipython3",
   "version": "3.7.3"
  }
 },
 "nbformat": 4,
 "nbformat_minor": 2
}
