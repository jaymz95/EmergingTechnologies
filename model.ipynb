{
 "cells": [
  {
   "cell_type": "code",
   "execution_count": 2,
   "metadata": {},
   "outputs": [
    {
     "name": "stderr",
     "output_type": "stream",
     "text": [
      "Using TensorFlow backend.\n"
     ]
    }
   ],
   "source": [
    "#python 2/3 compatibility\n",
    "from __future__ import print_function\n",
    "#simplified interface for building models \n",
    "import keras\n",
    "#our handwritten character labeled dataset\n",
    "from keras.datasets import mnist\n",
    "#because our models are simple\n",
    "from keras.models import Sequential\n",
    "#dense means fully connected layers, dropout is a technique to improve convergence, flatten to reshape our matrices for feeding\n",
    "#into respective layers\n",
    "from keras.layers import Dense, Dropout, Flatten\n",
    "#for convolution (images) and pooling is a technique to help choose the most relevant features in an image\n",
    "from keras.layers import Conv2D, MaxPooling2D\n",
    "from keras import backend as K"
   ]
  },
  {
   "cell_type": "code",
   "execution_count": 3,
   "metadata": {},
   "outputs": [],
   "source": [
    "#mini batch gradient descent ftw\n",
    "batch_size = 128\n",
    "#10 difference characters\n",
    "num_classes = 10\n",
    "#very short training time\n",
    "epochs = 12\n",
    "\n",
    "# input image dimensions\n",
    "#28x28 pixel images. \n",
    "img_rows, img_cols = 28, 28"
   ]
  },
  {
   "cell_type": "code",
   "execution_count": 5,
   "metadata": {},
   "outputs": [],
   "source": [
    "# Refference \"https://www.pytorials.com/deploy-keras-model-to-production-using-flask/\"\n",
    "\n",
    "# the data downloaded, shuffled and split between train and test sets\n",
    "#if only all datasets were this easy to import and format\n",
    "(x_train, y_train), (x_test, y_test) = mnist.load_data()\n",
    "\n",
    "#this assumes our data format\n",
    "#For 3D data, \"channels_last\" assumes (conv_dim1, conv_dim2, conv_dim3, channels) while \n",
    "#\"channels_first\" assumes (channels, conv_dim1, conv_dim2, conv_dim3).\n",
    "if K.image_data_format() == 'channels_first':\n",
    "    x_train = x_train.reshape(x_train.shape[0], 1, img_rows, img_cols)\n",
    "    x_test = x_test.reshape(x_test.shape[0], 1, img_rows, img_cols)\n",
    "    input_shape = (1, img_rows, img_cols)\n",
    "else:\n",
    "    x_train = x_train.reshape(x_train.shape[0], img_rows, img_cols, 1)\n",
    "    x_test = x_test.reshape(x_test.shape[0], img_rows, img_cols, 1)\n",
    "    input_shape = (img_rows, img_cols, 1)"
   ]
  }
 ],
 "metadata": {
  "kernelspec": {
   "display_name": "Python 3",
   "language": "python",
   "name": "python3"
  },
  "language_info": {
   "codemirror_mode": {
    "name": "ipython",
    "version": 3
   },
   "file_extension": ".py",
   "mimetype": "text/x-python",
   "name": "python",
   "nbconvert_exporter": "python",
   "pygments_lexer": "ipython3",
   "version": "3.7.3"
  }
 },
 "nbformat": 4,
 "nbformat_minor": 2
}
